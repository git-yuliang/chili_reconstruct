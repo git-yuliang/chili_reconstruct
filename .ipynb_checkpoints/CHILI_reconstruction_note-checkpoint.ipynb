{
 "cells": [
  {
   "cell_type": "markdown",
   "id": "a6349b41",
   "metadata": {},
   "source": [
    "## input data: extracted CHILI ifs data ( Newton:/share/data/chili/DRP/)\n",
    "    \n",
    "## Output: reconstrcted 2D waveband image of CHILI\n"
   ]
  },
  {
   "cell_type": "markdown",
   "id": "4fa51076",
   "metadata": {},
   "source": [
    "### 数据说明：\n",
    "https://social.shao.ac.cn/wikis/home?lang=zh-cn#!/wiki/CHILI/page/%E6%AC%A2%E8%BF%8E%E8%BF%9B%E5%85%A5%20CHILI\n",
    "\n"
   ]
  }
 ],
 "metadata": {
  "kernelspec": {
   "display_name": "Python 3 (ipykernel)",
   "language": "python",
   "name": "python3"
  },
  "language_info": {
   "codemirror_mode": {
    "name": "ipython",
    "version": 3
   },
   "file_extension": ".py",
   "mimetype": "text/x-python",
   "name": "python",
   "nbconvert_exporter": "python",
   "pygments_lexer": "ipython3",
   "version": "3.7.13"
  }
 },
 "nbformat": 4,
 "nbformat_minor": 5
}
